{
 "cells": [
  {
   "cell_type": "markdown",
   "metadata": {},
   "source": [
    "## LINEAR REGRESSION MASTER GUIDE"
   ]
  },
  {
   "cell_type": "code",
   "execution_count": 1,
   "metadata": {},
   "outputs": [],
   "source": [
    "def to_fahren(start_val, end_val):\n",
    "    '''\n",
    "    Converting Values to Fahrenheit and Storing it to a list\n",
    "    '''\n",
    "    X = list(range(start_val, end_val+1))\n",
    "    conv = []\n",
    "    for i in X:\n",
    "        computed = (i*9/5) + 32\n",
    "        conv.append(computed)\n",
    "    \n",
    "    return X, conv"
   ]
  },
  {
   "cell_type": "code",
   "execution_count": 2,
   "metadata": {},
   "outputs": [],
   "source": [
    "import numpy as np\n",
    "\n",
    "X, y = to_fahren(1, 10) # Taking small range as it is easy to visualize\n",
    "\n",
    "X = np.array(X).reshape(-1, 1)\n",
    "y = np.array(y).reshape(-1, 1)"
   ]
  },
  {
   "cell_type": "code",
   "execution_count": 3,
   "metadata": {},
   "outputs": [
    {
     "name": "stdout",
     "output_type": "stream",
     "text": [
      "[[ 1]\n",
      " [ 2]\n",
      " [ 3]\n",
      " [ 4]\n",
      " [ 5]\n",
      " [ 6]\n",
      " [ 7]\n",
      " [ 8]\n",
      " [ 9]\n",
      " [10]] [[33.8]\n",
      " [35.6]\n",
      " [37.4]\n",
      " [39.2]\n",
      " [41. ]\n",
      " [42.8]\n",
      " [44.6]\n",
      " [46.4]\n",
      " [48.2]\n",
      " [50. ]]\n"
     ]
    }
   ],
   "source": [
    "print(X, y)"
   ]
  },
  {
   "cell_type": "markdown",
   "metadata": {},
   "source": [
    "Now we have got \"X\" and \"Y\" values so let us PLOT this on a GRAPH"
   ]
  },
  {
   "cell_type": "code",
   "execution_count": 4,
   "metadata": {},
   "outputs": [
    {
     "data": {
      "image/png": "[encoded data removed]",
      "text/plain": [
       "<Figure size 576x396 with 1 Axes>"
      ]
     },
     "metadata": {},
     "output_type": "display_data"
    }
   ],
   "source": [
    "import matplotlib.pyplot as plt\n",
    "from matplotlib import style\n",
    "\n",
    "style.use('seaborn')\n",
    "plt.plot(X, y, 'bo')\n",
    "plt.plot(X, y)\n",
    "plt.xlabel(\"CELCIUS\")\n",
    "plt.ylabel(\"FAHRENHEIT\")\n",
    "plt.show()"
   ]
  },
  {
   "cell_type": "markdown",
   "metadata": {},
   "source": [
    "So, Nice Let's make a Model that can make Predictions accordingly and predict any values !!"
   ]
  },
  {
   "cell_type": "code",
   "execution_count": 5,
   "metadata": {},
   "outputs": [
    {
     "data": {
      "text/plain": [
       "LinearRegression()"
      ]
     },
     "execution_count": 5,
     "metadata": {},
     "output_type": "execute_result"
    }
   ],
   "source": [
    "from sklearn.linear_model import LinearRegression\n",
    "\n",
    "regressor = LinearRegression()\n",
    "regressor.fit(X, y)\n",
    "\n",
    "\n",
    "## PARAMETER :-\n",
    "#     - fit_intercept: bool, default:- True\n",
    "#     - normalize: bool, default=False\n",
    "#     - copy_X: bool, default=True (If True, X will be copied; else, it may be overwritten.)\n",
    "#     - n_jobs: int, default=None (The number of jobs to use for the computation. This will only \n",
    "#                                  provide speedup for n_targets > 1 and sufficient large problems. \n",
    "#                                  None means 1 unless in a joblib.parallel_backend context. -1 means\n",
    "#                                  using all processors.)\n",
    "#\n",
    "\n",
    "## ATRIBUTES :- (we will use this all !!)\n",
    "\n",
    "#     - coef_ : array of shape (n_features, ) or (n_targets, n_features)\n",
    "#     - intercept_ : float or array of shape (n_targets,)"
   ]
  },
  {
   "cell_type": "markdown",
   "metadata": {},
   "source": [
    "Hey we Did it, Our model is trained Successfully !! Let's check some Attributes"
   ]
  },
  {
   "cell_type": "code",
   "execution_count": 6,
   "metadata": {},
   "outputs": [
    {
     "data": {
      "text/plain": [
       "array([[1.8]])"
      ]
     },
     "execution_count": 6,
     "metadata": {},
     "output_type": "execute_result"
    }
   ],
   "source": [
    "regressor.coef_"
   ]
  },
  {
   "cell_type": "code",
   "execution_count": 7,
   "metadata": {},
   "outputs": [
    {
     "data": {
      "text/plain": [
       "array([32.])"
      ]
     },
     "execution_count": 7,
     "metadata": {},
     "output_type": "execute_result"
    }
   ],
   "source": [
    "regressor.intercept_"
   ]
  },
  {
   "cell_type": "markdown",
   "metadata": {},
   "source": [
    "After Seeing this it's very clear that How are Machine learning model has computed things\n",
    "\n",
    "Are Equation was Fahrenheit = Celcius*9/5 + 32\n",
    "\n",
    "Comapring with y = mX + b\n",
    "\n",
    "Where, 9/5 is the Coefficient or Slope (m), and 32 is the y-intercept (b)\n",
    "\n",
    "We know that 9/5 = 1.8\n",
    "And our Ml model has Properly Calculated \"m\" and \"b\" values which our \"1.8\" and \"32\" respectively.\n",
    "So, Our model can now predict any values which our out of the range we have given (0 to 10) by just putting it to this Equation \n",
    "\n",
    "Final Equation --> y = 1.8X + 32\n",
    "\n",
    "Now, if you give value 100 and say it to predict the fahrenheit value it will just put it to this equation and compute it like :-\n",
    "\n",
    "y = 1.8(100) + 32\n",
    "\n",
    "y = 180 + 32\n",
    "\n",
    "y = 212\n",
    "\n",
    "Is It currect ? Let's Check it out"
   ]
  },
  {
   "cell_type": "code",
   "execution_count": 8,
   "metadata": {},
   "outputs": [
    {
     "data": {
      "text/plain": [
       "array([[212.]])"
      ]
     },
     "execution_count": 8,
     "metadata": {},
     "output_type": "execute_result"
    }
   ],
   "source": [
    "celcius_val = 100\n",
    "\n",
    "regressor.predict(np.array(celcius_val).reshape(-1, 1))"
   ]
  },
  {
   "cell_type": "markdown",
   "metadata": {},
   "source": [
    "Yeahh !! It's Absolutely Currect value (You Can even Google it!)\n",
    "\n",
    "Let's Visualize Things Now"
   ]
  },
  {
   "cell_type": "code",
   "execution_count": 9,
   "metadata": {},
   "outputs": [
    {
     "data": {
      "image/png": "[encoded data removed]",
      "text/plain": [
       "<Figure size 576x396 with 1 Axes>"
      ]
     },
     "metadata": {},
     "output_type": "display_data"
    }
   ],
   "source": [
    "x_pred = list(range(0, 26))\n",
    "y_pred = np.array(x_pred).reshape(-1, 1)\n",
    "plt.plot(x_pred, regressor.predict(y_pred))\n",
    "plt.plot(x_pred, regressor.predict(y_pred), 'bo')\n",
    "plt.show()"
   ]
  },
  {
   "cell_type": "markdown",
   "metadata": {},
   "source": [
    "So this was a very much linear problem but in future we will play with some Complex Problems !!\n",
    "\n",
    "Code Written By :-  Pritish Mishra"
   ]
  },
  {
   "cell_type": "markdown",
   "metadata": {},
   "source": [
    "Now we will make our OWN LINEAR REGRESSION MODEL like Scikit-learn does.. and we will compare our model with Scikit-learn's...!!"
   ]
  }
 ],
 "metadata": {
  "kernelspec": {
   "display_name": "Python 3",
   "language": "python",
   "name": "python3"
  },
  "language_info": {
   "codemirror_mode": {
    "name": "ipython",
    "version": 3
   },
   "file_extension": ".py",
   "mimetype": "text/x-python",
   "name": "python",
   "nbconvert_exporter": "python",
   "pygments_lexer": "ipython3",
   "version": "3.6.5"
  }
 },
 "nbformat": 4,
 "nbformat_minor": 4
}
