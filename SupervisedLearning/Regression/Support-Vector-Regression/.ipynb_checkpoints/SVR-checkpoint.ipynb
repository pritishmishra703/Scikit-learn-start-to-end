{
 "cells": [
  {
   "cell_type": "markdown",
   "metadata": {},
   "source": [
    "# sklearn.svm.SVR\n",
    "\n",
    "`class sklearn.svm.SVR(*, kernel='rbf', degree=3, gamma='scale', coef0=0.0, tol=0.001, C=1.0, epsilon=0.1, shrinking=True, cache_size=200, verbose=False, max_iter=- 1)`"
   ]
  },
  {
   "cell_type": "code",
   "execution_count": 1,
   "metadata": {},
   "outputs": [],
   "source": [
    "from sklearn.svm import SVR\n",
    "import numpy as np\n",
    "import pandas as pd"
   ]
  },
  {
   "cell_type": "markdown",
   "metadata": {},
   "source": [
    "### Loading and Preparing dataset..."
   ]
  },
  {
   "cell_type": "code",
   "execution_count": 3,
   "metadata": {},
   "outputs": [],
   "source": [
    "ds = pd.read_csv(r\"C:\\pritish\\BigML\\SupervisedLearning\\Regression\\Support-Vector-Regression\\dataset\\Position_Salaries.csv\")\n",
    "\n",
    "X = ds.iloc[:, 1]\n",
    "y = ds.iloc[:, 2]"
   ]
  },
  {
   "cell_type": "code",
   "execution_count": 4,
   "metadata": {},
   "outputs": [
    {
     "data": {
      "text/plain": [
       "0     1\n",
       "1     2\n",
       "2     3\n",
       "3     4\n",
       "4     5\n",
       "5     6\n",
       "6     7\n",
       "7     8\n",
       "8     9\n",
       "9    10\n",
       "Name: Level, dtype: int64"
      ]
     },
     "execution_count": 4,
     "metadata": {},
     "output_type": "execute_result"
    }
   ],
   "source": [
    "X"
   ]
  },
  {
   "cell_type": "code",
   "execution_count": 5,
   "metadata": {},
   "outputs": [
    {
     "data": {
      "text/plain": [
       "0      45000\n",
       "1      50000\n",
       "2      60000\n",
       "3      80000\n",
       "4     110000\n",
       "5     150000\n",
       "6     200000\n",
       "7     300000\n",
       "8     500000\n",
       "9    1000000\n",
       "Name: Salary, dtype: int64"
      ]
     },
     "execution_count": 5,
     "metadata": {},
     "output_type": "execute_result"
    }
   ],
   "source": [
    "y"
   ]
  },
  {
   "cell_type": "code",
   "execution_count": 6,
   "metadata": {},
   "outputs": [
    {
     "data": {
      "text/plain": [
       "(10,)"
      ]
     },
     "execution_count": 6,
     "metadata": {},
     "output_type": "execute_result"
    }
   ],
   "source": [
    "X.shape"
   ]
  },
  {
   "cell_type": "code",
   "execution_count": 7,
   "metadata": {},
   "outputs": [
    {
     "data": {
      "text/plain": [
       "(10,)"
      ]
     },
     "execution_count": 7,
     "metadata": {},
     "output_type": "execute_result"
    }
   ],
   "source": [
    "y.shape"
   ]
  },
  {
   "cell_type": "code",
   "execution_count": 8,
   "metadata": {},
   "outputs": [
    {
     "data": {
      "text/plain": [
       "(pandas.core.series.Series, pandas.core.series.Series)"
      ]
     },
     "execution_count": 8,
     "metadata": {},
     "output_type": "execute_result"
    }
   ],
   "source": [
    "type(X), type(y)"
   ]
  },
  {
   "cell_type": "code",
   "execution_count": 9,
   "metadata": {},
   "outputs": [],
   "source": [
    "# Converting data to numpy array\n",
    "\n",
    "X = np.array(X).reshape(-1, 1)\n",
    "y = np.array(y).reshape(-1, 1)"
   ]
  },
  {
   "cell_type": "code",
   "execution_count": 10,
   "metadata": {},
   "outputs": [
    {
     "data": {
      "text/plain": [
       "(numpy.ndarray, numpy.ndarray)"
      ]
     },
     "execution_count": 10,
     "metadata": {},
     "output_type": "execute_result"
    }
   ],
   "source": [
    "type(X), type(y)"
   ]
  },
  {
   "cell_type": "markdown",
   "metadata": {},
   "source": [
    "#### Some Data preprocessing..."
   ]
  },
  {
   "cell_type": "code",
   "execution_count": 11,
   "metadata": {},
   "outputs": [],
   "source": [
    "from sklearn.model_selection import train_test_split\n",
    "from sklearn.preprocessing import StandardScaler\n",
    "\n",
    "sc_X = StandardScaler()\n",
    "sc_y = StandardScaler()\n",
    "X = sc_X.fit_transform(X)\n",
    "y = sc_y.fit_transform(y)\n",
    "\n",
    "X_train, X_test, y_train, y_test = train_test_split(X, y, test_size=0.2, random_state=1)"
   ]
  },
  {
   "cell_type": "markdown",
   "metadata": {},
   "source": [
    "We are NOT train test splitting our dataset as the it is very short (length=10)"
   ]
  },
  {
   "cell_type": "markdown",
   "metadata": {},
   "source": [
    "## Preparing SVR model"
   ]
  },
  {
   "cell_type": "markdown",
   "metadata": {},
   "source": [
    "We are first setting SVR to default values and in further cells we will tweak with gamma, epsilon,C, kernel and tollerence values to see what difference it will make in our model... But first let us let us discuss what are these values.\n",
    "\n",
    "#### Parameters (of SVR):\n",
    "\n",
    "1. kernel: {‘linear’, ‘poly’, ‘rbf’, ‘sigmoid’, ‘precomputed’}, default=’rbf’\n",
    "\n",
    "   **Specifies the kernel type to be used in the algorithm. It must be one of ‘linear’, ‘poly’,            ‘rbf’, ‘sigmoid’, ‘precomputed’ or a callable. If none is given, ‘rbf’ will be used. If a             callable is given it is used to precompute the kernel matrix.**\n",
    "\n",
    "\n",
    "2. degree: int, default=3\n",
    "\n",
    "   **Degree of the polynomial kernel function (‘poly’). Ignored by all other kernels.**\n",
    " \n",
    " \n",
    "3. gamma: {‘scale’, ‘auto’} or float, default=’scale’\n",
    "\n",
    "   **Kernel coefficient for ‘rbf’, ‘poly’ and ‘sigmoid’.**\n",
    "   - if gamma='scale' (default) is passed then it uses 1 / (n_features * X.var()) as value of gamma,\n",
    "   - if ‘auto’, uses 1 / n_features.\n",
    "\n",
    "\n",
    "4. coef0: float, default=0.0\n",
    "   \n",
    "   **Independent term in kernel function. It is only significant in ‘poly’ and ‘sigmoid’.**\n",
    "   \n",
    "5. tol: float, default=1e-3\n",
    "\n",
    "   **Tolerance for stopping criterion.**\n",
    "   \n",
    "   \n",
    "6. C: float, default=1.0\n",
    "\n",
    "   **Regularization parameter. The strength of the regularization is inversely proportional to C.        Must be strictly positive. The penalty is a squared l2 penalty.**\n",
    "   \n",
    "   \n",
    "7. epsilon: float, default=0.1\n",
    "   \n",
    "   **Epsilon in the epsilon-SVR model. It specifies the epsilon-tube within which no penalty is          associated in the training loss function with points predicted within a distance epsilon from the    actual value.**\n",
    "   \n",
    "   \n",
    "8. shrinking: bool, default=True\n",
    "    \n",
    "   **Whether to use the shrinking heuristic.**\n",
    "\n",
    "\n",
    "9. cache_size: float, default=200\n",
    "\n",
    "   **Specify the size of the kernel cache (in MB).**\n",
    "   \n",
    "   \n",
    "10. verbose: bool, default=False\n",
    "\n",
    "    **Enable verbose output. Note that this setting takes advantage of a per-process runtime setting     in libsvm that, if enabled, may not work properly in a multithreaded context.**\n",
    "    \n",
    "    \n",
    "11. max_iter: int, default=-1\n",
    "\n",
    "    **Hard limit on iterations within solver, or -1 for no limit.**\n",
    "    \n",
    "    \n",
    "<br><br>\n",
    "Note: We don't have to use every and each Parameters for SVR we can just go forward with the default ones in the maximum cases. But we will see that what changes this parameters can make to the accuracy of our model\n",
    "<br><br>\n",
    "#### Methods (of SVR): \n",
    "\n",
    "fit(X, y[, sample_weight]): Fit the SVM model according to the given training data.\n",
    "\n",
    "get_params([deep]): Get parameters for this estimator.\n",
    "\n",
    "predict(X): Perform regression on samples in X.\n",
    "\n",
    "score(X, y[, sample_weight]): Return the coefficient of determination  of the prediction.\n",
    "\n",
    "set_params(**params): Set the parameters of this estimator."
   ]
  },
  {
   "cell_type": "code",
   "execution_count": 12,
   "metadata": {},
   "outputs": [
    {
     "data": {
      "text/plain": [
       "SVR(kernel='poly')"
      ]
     },
     "execution_count": 12,
     "metadata": {},
     "output_type": "execute_result"
    }
   ],
   "source": [
    "svr = SVR(kernel='poly')\n",
    "svr.fit(X_train, y_train.ravel())"
   ]
  },
  {
   "cell_type": "code",
   "execution_count": 13,
   "metadata": {},
   "outputs": [
    {
     "data": {
      "text/plain": [
       "{'C': 1.0,\n",
       " 'cache_size': 200,\n",
       " 'coef0': 0.0,\n",
       " 'degree': 3,\n",
       " 'epsilon': 0.1,\n",
       " 'gamma': 'scale',\n",
       " 'kernel': 'poly',\n",
       " 'max_iter': -1,\n",
       " 'shrinking': True,\n",
       " 'tol': 0.001,\n",
       " 'verbose': False}"
      ]
     },
     "execution_count": 13,
     "metadata": {},
     "output_type": "execute_result"
    }
   ],
   "source": [
    "svr.get_params()"
   ]
  },
  {
   "cell_type": "markdown",
   "metadata": {},
   "source": [
    "Now our model is trained on the values of X_train and y_train. We can now predict on the test data"
   ]
  },
  {
   "cell_type": "code",
   "execution_count": 14,
   "metadata": {},
   "outputs": [],
   "source": [
    "y_pred = svr.predict(X_test)"
   ]
  },
  {
   "cell_type": "code",
   "execution_count": 15,
   "metadata": {},
   "outputs": [
    {
     "name": "stdout",
     "output_type": "stream",
     "text": [
      "Actual Values:  [  45000.   50000.   60000.   80000.  110000.  150000.  200000.  300000.\n",
      "  500000. 1000000.]\n",
      "Predicted Values:  [141773.18650481 390029.04491306]\n"
     ]
    }
   ],
   "source": [
    "print(\"Actual Values: \", sc_y.inverse_transform(y.ravel()))\n",
    "print(\"Predicted Values: \", sc_y.inverse_transform(y_pred))"
   ]
  },
  {
   "cell_type": "code",
   "execution_count": 16,
   "metadata": {},
   "outputs": [
    {
     "data": {
      "text/plain": [
       "0.14270841991666017"
      ]
     },
     "execution_count": 16,
     "metadata": {},
     "output_type": "execute_result"
    }
   ],
   "source": [
    "svr.score(X_test, y_test)"
   ]
  },
  {
   "cell_type": "code",
   "execution_count": 19,
   "metadata": {},
   "outputs": [
    {
     "data": {
      "image/png": "[encoded data removed]",
      "text/plain": [
       "<Figure size 576x396 with 1 Axes>"
      ]
     },
     "metadata": {},
     "output_type": "display_data"
    }
   ],
   "source": [
    "import matplotlib.pyplot as plt\n",
    "from matplotlib import style\n",
    "\n",
    "style.use('seaborn')\n",
    "\n",
    "X_plot = sc_X.inverse_transform(X_test)\n",
    "y_plot = sc_y.inverse_transform(y_test)\n",
    "\n",
    "plt.plot(X_plot, y_plot, 'bo')\n",
    "plt.plot(X_plot, sc_y.inverse_transform(y_pred), 'green')\n",
    "plt.show()"
   ]
  },
  {
   "cell_type": "code",
   "execution_count": null,
   "metadata": {},
   "outputs": [],
   "source": []
  }
 ],
 "metadata": {
  "kernelspec": {
   "display_name": "Python 3",
   "language": "python",
   "name": "python3"
  },
  "language_info": {
   "codemirror_mode": {
    "name": "ipython",
    "version": 3
   },
   "file_extension": ".py",
   "mimetype": "text/x-python",
   "name": "python",
   "nbconvert_exporter": "python",
   "pygments_lexer": "ipython3",
   "version": "3.6.5"
  }
 },
 "nbformat": 4,
 "nbformat_minor": 4
}
